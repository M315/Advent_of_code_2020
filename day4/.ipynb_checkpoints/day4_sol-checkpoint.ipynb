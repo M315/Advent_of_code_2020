{
 "cells": [
  {
   "cell_type": "code",
   "execution_count": 63,
   "metadata": {},
   "outputs": [],
   "source": [
    "def first():\n",
    "    f = open(\"first_input.txt\", \"r\")\n",
    "    \n",
    "    valid = 0\n",
    "    data = []\n",
    "    \n",
    "    while True:\n",
    "        line = f.readline()\n",
    "        \n",
    "        x = line.split()\n",
    "        data = data + x\n",
    "        \n",
    "        if not x:\n",
    "            if len(data) == 8:\n",
    "                valid += 1\n",
    "                \n",
    "            if len(data) == 7:\n",
    "                ctrl = True\n",
    "                for x in data:\n",
    "                    if x[0] == 'c':\n",
    "                        ctrl = False\n",
    "                        break\n",
    "                if ctrl:\n",
    "                    valid += 1\n",
    "            \n",
    "            data = []\n",
    "        \n",
    "        if not line:\n",
    "            break\n",
    "    \n",
    "    print(valid)\n",
    "    \n",
    "    f.close()"
   ]
  },
  {
   "cell_type": "code",
   "execution_count": 64,
   "metadata": {},
   "outputs": [
    {
     "name": "stdout",
     "output_type": "stream",
     "text": [
      "219\n"
     ]
    }
   ],
   "source": [
    "first()"
   ]
  }
 ],
 "metadata": {
  "kernelspec": {
   "display_name": "Python 3",
   "language": "python",
   "name": "python3"
  },
  "language_info": {
   "codemirror_mode": {
    "name": "ipython",
    "version": 3
   },
   "file_extension": ".py",
   "mimetype": "text/x-python",
   "name": "python",
   "nbconvert_exporter": "python",
   "pygments_lexer": "ipython3",
   "version": "3.8.3"
  }
 },
 "nbformat": 4,
 "nbformat_minor": 4
}
